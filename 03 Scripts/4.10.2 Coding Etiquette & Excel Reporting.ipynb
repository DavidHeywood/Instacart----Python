{
 "cells": [
  {
   "cell_type": "markdown",
   "id": "51e12d0f",
   "metadata": {},
   "source": [
    "# Contents\n",
    "## Importing Libraries and Data (orders_products_all.pkl)\n",
    "## Data Security Check\n",
    "## Spending Habits by Region\n",
    "### &emsp; Creating the 'region' column\n",
    "### &emsp; Comparing 'region' and 'spending_flag'\n",
    "## Excluding Low-Activity Customers\n",
    "### &emsp; Creating the 'exculsion_flag' column\n",
    "### &emsp; Creating the sample\n",
    "### Exporting the sample as orders_products_high.pkl\n",
    "## Profiling Customers\n",
    "### &emsp; Age\n",
    "### &emsp; Income\n",
    "### &emsp; Department\n",
    "### &emsp; Family Status\n",
    "## Profile Visualizations\n",
    "## Profile Aggregation\n",
    "## Customer Profiles by Region and Department\n",
    "## Visualizations for Results\n",
    "## Extra Analysis\n",
    "### &emsp; Ordering Habits by Region\n",
    "### &emsp; Ordering Habits by Loyalty\n",
    "## Exporting as orders_products_final.pkl"
   ]
  },
  {
   "cell_type": "markdown",
   "id": "6deaf62c",
   "metadata": {},
   "source": [
    "# Step 1: Importing Libraries and Data"
   ]
  },
  {
   "cell_type": "code",
   "execution_count": 1,
   "id": "96a0de2c",
   "metadata": {},
   "outputs": [],
   "source": [
    "# Importing libraries\n",
    "\n",
    "import pandas as pd\n",
    "import numpy as np\n",
    "import os\n",
    "import matplotlib.pyplot as plt\n",
    "import seaborn as sns\n",
    "import scipy"
   ]
  },
  {
   "cell_type": "code",
   "execution_count": 2,
   "id": "baa97737",
   "metadata": {},
   "outputs": [],
   "source": [
    "# Turning project folder into a string\n",
    "\n",
    "path = r'C:\\Users\\davau\\OneDrive - College of the Sequoias\\Career Foundry\\Data Immersion\\Achievement 4 (Python)\\Instacart Basket Analysis'"
   ]
  },
  {
   "cell_type": "code",
   "execution_count": null,
   "id": "b86425f8",
   "metadata": {},
   "outputs": [],
   "source": [
    "# Importing orders_products_all.pkl\n",
    "\n",
    "df = pd.read_pickle(os.path.join(path, '02 Data', 'Prepared Data', 'orders_products_all.pkl'))"
   ]
  },
  {
   "cell_type": "code",
   "execution_count": null,
   "id": "fb41535b",
   "metadata": {},
   "outputs": [],
   "source": [
    "df.shape"
   ]
  },
  {
   "cell_type": "code",
   "execution_count": null,
   "id": "724ff64c",
   "metadata": {},
   "outputs": [],
   "source": [
    "df.info()"
   ]
  },
  {
   "cell_type": "code",
   "execution_count": null,
   "id": "3339a8a0",
   "metadata": {},
   "outputs": [],
   "source": [
    "df.head()"
   ]
  },
  {
   "cell_type": "markdown",
   "id": "2fc06414",
   "metadata": {},
   "source": [
    "# Step 2: Checking for data security"
   ]
  },
  {
   "cell_type": "markdown",
   "id": "3a19bf14",
   "metadata": {},
   "source": [
    "I removed the customer names from customers.csv in Task 4.9 Part 1 before merging that data with the rest of my data.  The remaining columns cannot be used to identify any individual customer, even if take all together."
   ]
  },
  {
   "cell_type": "markdown",
   "id": "28d2430e",
   "metadata": {},
   "source": [
    "# Step 3: Spending Habits by Region"
   ]
  },
  {
   "cell_type": "markdown",
   "id": "7e56d55a",
   "metadata": {},
   "source": [
    "Determine whether there’s a difference in spending habits between the different U.S. regions."
   ]
  },
  {
   "cell_type": "markdown",
   "id": "7aac09c0",
   "metadata": {},
   "source": [
    "## Creating the 'region' column"
   ]
  },
  {
   "cell_type": "code",
   "execution_count": null,
   "id": "a0538355",
   "metadata": {},
   "outputs": [],
   "source": [
    "# Creating an empty list that will become the 'region' column\n",
    "\n",
    "region = []"
   ]
  },
  {
   "cell_type": "code",
   "execution_count": null,
   "id": "a7375ac3",
   "metadata": {},
   "outputs": [],
   "source": [
    "# Checking to see how the states are written in the df\n",
    "\n",
    "df['state'].value_counts(dropna = False)"
   ]
  },
  {
   "cell_type": "code",
   "execution_count": null,
   "id": "f5f347d1",
   "metadata": {},
   "outputs": [],
   "source": [
    "# Filling 'region' with 'northeast', 'midwest', 'south', or 'west'\n",
    "\n",
    "for x in df['state']:\n",
    "    if x in ['Maine','New Hampshire', 'Vermont', 'Massachusetts','Rhode Island','Connecticut','New York','Pennsylvania','New Jersey']:\n",
    "        region.append('northeast')\n",
    "    elif x in ['Wisconsin','Michigan','Illinois','Indiana','Ohio','North Dakota','South Dakota','Nebraska','Kansas','Minnesota','Iowa','Missouri']:\n",
    "        region.append('midwest')\n",
    "    elif x in ['Delaware','Maryland','District of Columbia','Virginia','West Virginia','North Carolina','South Carolina','Georgia','Florida','Kentucky','Tennessee','Mississippi','Alabama','Oklahoma','Texas','Arkansas','Louisiana']:\n",
    "        region.append('south')\n",
    "    else:\n",
    "        region.append('west')\n",
    "            "
   ]
  },
  {
   "cell_type": "code",
   "execution_count": null,
   "id": "b54b74fb",
   "metadata": {},
   "outputs": [],
   "source": [
    "region"
   ]
  },
  {
   "cell_type": "code",
   "execution_count": null,
   "id": "e24111d7",
   "metadata": {},
   "outputs": [],
   "source": [
    "# Adding 'region' column to df\n",
    "\n",
    "df['region'] = region"
   ]
  },
  {
   "cell_type": "code",
   "execution_count": null,
   "id": "f9f6eef6",
   "metadata": {},
   "outputs": [],
   "source": [
    "# Getting frequency distribution for 'region'\n",
    "\n",
    "df['region'].value_counts(dropna = False)"
   ]
  },
  {
   "cell_type": "markdown",
   "id": "3b1e75a4",
   "metadata": {},
   "source": [
    "## Comparing 'region' with 'spending_flag'"
   ]
  },
  {
   "cell_type": "code",
   "execution_count": null,
   "id": "05a5e6e3",
   "metadata": {},
   "outputs": [],
   "source": [
    "# Creating a crosstab between 'region' and 'spending_flag'\n",
    "\n",
    "region_spending_cross = pd.crosstab(df['region'], df['spending_flag'], dropna = False)"
   ]
  },
  {
   "cell_type": "code",
   "execution_count": null,
   "id": "008928dd",
   "metadata": {},
   "outputs": [],
   "source": [
    "region_spending_cross"
   ]
  },
  {
   "cell_type": "code",
   "execution_count": null,
   "id": "b6d6a3c9",
   "metadata": {},
   "outputs": [],
   "source": [
    "# Copying to clipboard to paste in Excel\n",
    "\n",
    "region_spending_cross.to_clipboard()"
   ]
  },
  {
   "cell_type": "markdown",
   "id": "dad0a401",
   "metadata": {},
   "source": [
    "# Step 4: Excluding low-activity customers"
   ]
  },
  {
   "cell_type": "markdown",
   "id": "2b30e2a8",
   "metadata": {},
   "source": [
    "## Creating the exclusion flag"
   ]
  },
  {
   "cell_type": "code",
   "execution_count": null,
   "id": "80fda85f",
   "metadata": {},
   "outputs": [],
   "source": [
    "df.loc[df['max_order'] < 5, 'low_order_flag'] = 'Low order customer'"
   ]
  },
  {
   "cell_type": "code",
   "execution_count": null,
   "id": "c07ce474",
   "metadata": {},
   "outputs": [],
   "source": [
    "df.loc[df['max_order'] >= 5, 'low_order_flag'] = 'High order customer'"
   ]
  },
  {
   "cell_type": "code",
   "execution_count": null,
   "id": "abdb5c3a",
   "metadata": {},
   "outputs": [],
   "source": [
    "df['low_order_flag'].value_counts(dropna = False)"
   ]
  },
  {
   "cell_type": "markdown",
   "id": "6b76988a",
   "metadata": {},
   "source": [
    "## Creating a sample with only high order customers"
   ]
  },
  {
   "cell_type": "code",
   "execution_count": null,
   "id": "e8ae8b3d",
   "metadata": {},
   "outputs": [],
   "source": [
    "# Creating the sample\n",
    "\n",
    "df_high = df[df['low_order_flag'] == 'High order customer']"
   ]
  },
  {
   "cell_type": "code",
   "execution_count": null,
   "id": "5630f272",
   "metadata": {},
   "outputs": [],
   "source": [
    "df_high.head()"
   ]
  },
  {
   "cell_type": "code",
   "execution_count": null,
   "id": "837c0d01",
   "metadata": {},
   "outputs": [],
   "source": [
    "# Exporting the sample as orders_products_high.pkl\n",
    "\n",
    "df_high.to_pickle(os.path.join(path,'02 Data','Prepared Data','orders_products_high.pkl'))"
   ]
  },
  {
   "cell_type": "markdown",
   "id": "82f83024",
   "metadata": {},
   "source": [
    "# Step 5: Profiling Customers"
   ]
  },
  {
   "cell_type": "markdown",
   "id": "02f654e9",
   "metadata": {},
   "source": [
    "I've been asked to create a profiling variable based on age, income, certain goods in the 'department_id' column, and number of dependents. \n",
    "\n",
    "In addition to that, the 'family_status' column obviously contains useful information about whether people are single or married, which affects how we view the 'number_of_dependents'.\n",
    "\n",
    "If I take each of those 5 columns, assign them 2 values (e.g. \"Young\" and \"Old\" for the 'age' column), and then look at every combination of values, there will be 2^5=32 distinct profile types.  This will be too noisy to make sense of.\n",
    "\n",
    "So instead, I will simply create flags for each of these columns that I can use to answer the questions in the Project Brief.\n",
    "\n",
    "\n",
    "\n"
   ]
  },
  {
   "cell_type": "markdown",
   "id": "d6541165",
   "metadata": {},
   "source": [
    "## Age "
   ]
  },
  {
   "cell_type": "code",
   "execution_count": null,
   "id": "c55141b4",
   "metadata": {},
   "outputs": [],
   "source": [
    "# Creating the age_flag\n",
    "\n",
    "age_flag = []\n",
    "for x in df['age'].tolist():\n",
    "    if x <= 25:\n",
    "        age_flag.append('Young')\n",
    "    elif x > 25 and x < 65:\n",
    "        age_flag.append('Middle-aged')\n",
    "    elif x >= 65:\n",
    "        age_flag.append('Senior')\n",
    "    else:\n",
    "        print('Weird value:', x)"
   ]
  },
  {
   "cell_type": "code",
   "execution_count": null,
   "id": "fd216529",
   "metadata": {},
   "outputs": [],
   "source": [
    "# Adding age_flag to df as 'age_profile'\n",
    "\n",
    "df['age_profile'] = age_flag"
   ]
  },
  {
   "cell_type": "code",
   "execution_count": null,
   "id": "a7f40655",
   "metadata": {},
   "outputs": [],
   "source": [
    "# Getting frequency distribution for 'age_profile'\n",
    "\n",
    "df['age_profile'].value_counts(dropna = False)"
   ]
  },
  {
   "cell_type": "markdown",
   "id": "585c9ac1",
   "metadata": {},
   "source": [
    "## Income"
   ]
  },
  {
   "cell_type": "code",
   "execution_count": null,
   "id": "caaa0a8c",
   "metadata": {},
   "outputs": [],
   "source": [
    "# Creating the income_flag\n",
    "\n",
    "income_flag = []\n",
    "for x in df['income'].tolist():\n",
    "    if x < 75000:\n",
    "        income_flag.append('Low-income')\n",
    "    elif x >= 75000 and x < 150000:\n",
    "        income_flag.append('Mid-income')\n",
    "    elif x >= 150000:\n",
    "        income_flag.append('High-income')\n",
    "    else:\n",
    "        print('Weird value:', row)"
   ]
  },
  {
   "cell_type": "code",
   "execution_count": null,
   "id": "b64dba41",
   "metadata": {},
   "outputs": [],
   "source": [
    "# Adding income_flag to df as 'income_profile'\n",
    "\n",
    "df['income_profile'] = income_flag"
   ]
  },
  {
   "cell_type": "code",
   "execution_count": null,
   "id": "1f011d6d",
   "metadata": {},
   "outputs": [],
   "source": [
    "# Getting frequency distribution for 'income_profile'\n",
    "\n",
    "df['income_profile'].value_counts(dropna = False)"
   ]
  },
  {
   "cell_type": "markdown",
   "id": "fc2e4492",
   "metadata": {},
   "source": [
    "## Department"
   ]
  },
  {
   "cell_type": "markdown",
   "id": "e1d213b1",
   "metadata": {},
   "source": [
    "I will use the department_id column to separate the customers into vegans and non-vegans.\n",
    "\n",
    "Vegans don't eat meat (department_id=12) or dairy (department_id=16)\n",
    "\n",
    "I don't want to label each purchase as vegan or non-vegan, but the customer as vegan or non-vegan, based on their purchases."
   ]
  },
  {
   "cell_type": "code",
   "execution_count": null,
   "id": "db88eabc",
   "metadata": {},
   "outputs": [],
   "source": [
    "# Creating a crosstab between 'department_id' and 'user_id'\n",
    "\n",
    "dep_user_cross = pd.crosstab(df['department_id'], df['user_id'], dropna = False)"
   ]
  },
  {
   "cell_type": "code",
   "execution_count": null,
   "id": "d6191d7f",
   "metadata": {},
   "outputs": [],
   "source": [
    "dep_user_cross"
   ]
  },
  {
   "cell_type": "code",
   "execution_count": null,
   "id": "f4f54147",
   "metadata": {},
   "outputs": [],
   "source": [
    "# Assigning nutrition flags to users and storing them in a Python dictionary\n",
    "\n",
    "vegan_dict = dict()\n",
    "for user in dep_user_cross:\n",
    "    workinglist = dep_user_cross[user].tolist()\n",
    "    if workinglist[11] == 0 and workinglist[15] == 0:   # the index starts at 0, so index 0 corresponds to dep_id=1\n",
    "        vegan_dict[user] = 'Vegan'\n",
    "    else:\n",
    "        vegan_dict[user] = 'Non-vegan'"
   ]
  },
  {
   "cell_type": "code",
   "execution_count": null,
   "id": "2330f67c",
   "metadata": {},
   "outputs": [],
   "source": [
    "# Assigning user flags to the vegan_flag\n",
    "\n",
    "vegan_flag = []\n",
    "for user in df['user_id']:\n",
    "    vegan_flag.append(vegan_dict[user])"
   ]
  },
  {
   "cell_type": "code",
   "execution_count": null,
   "id": "f58b587d",
   "metadata": {},
   "outputs": [],
   "source": [
    "# Adding vegan_flag to df as 'vegan_profile'\n",
    "\n",
    "df['vegan_profile'] = vegan_flag"
   ]
  },
  {
   "cell_type": "code",
   "execution_count": null,
   "id": "e440ba99",
   "metadata": {},
   "outputs": [],
   "source": [
    "# Getting frequency distribution for 'vegan_profile'\n",
    "\n",
    "df['vegan_profile'].value_counts(dropna = False)"
   ]
  },
  {
   "cell_type": "markdown",
   "id": "db56356f",
   "metadata": {},
   "source": [
    "## Family status"
   ]
  },
  {
   "cell_type": "code",
   "execution_count": null,
   "id": "cfc15134",
   "metadata": {},
   "outputs": [],
   "source": [
    "df['family_status'].value_counts(dropna = False)"
   ]
  },
  {
   "cell_type": "markdown",
   "id": "8a291126",
   "metadata": {},
   "source": [
    "I will put information from the 'family_status' column together with information about the number of dependents to get a sense for the family structure.  Here's the plan:\n",
    "\n",
    "(family_status = married) and (number_of_dependents == 1) : married, no children\n",
    "\n",
    "(family_status = married) and (number_of_dependents >= 2) : married with children\n",
    "\n",
    "(family_status in (single, divorced/widowed, living with parents and siblings)) and (number_of_dependents == 0) : single, no children\n",
    "\n",
    "(family_status in (single, divorced/widowed, living with parents and siblings)) and (number_of_dependents >= 1) : single with children"
   ]
  },
  {
   "cell_type": "code",
   "execution_count": null,
   "id": "f42f9827",
   "metadata": {},
   "outputs": [],
   "source": [
    "# Creating the 'family_profile' column and labeling the 'married no children' customers\n",
    "\n",
    "df.loc[(df['family_status'] == 'married') & (df['number_of_dependants'] == 1), 'family_profile'] = 'Married no children'"
   ]
  },
  {
   "cell_type": "code",
   "execution_count": null,
   "id": "7684933e",
   "metadata": {},
   "outputs": [],
   "source": [
    "# Creating the 'family_profile' column and labeling the 'married with children' customers\n",
    "\n",
    "df.loc[(df['family_status'] == 'married') & (df['number_of_dependants'] >= 2), 'family_profile'] = 'Married with children'"
   ]
  },
  {
   "cell_type": "code",
   "execution_count": null,
   "id": "f80e73e3",
   "metadata": {},
   "outputs": [],
   "source": [
    "# Creating the 'family_profile' column and labeling the 'single no children' customers\n",
    "\n",
    "df.loc[(df['family_status'] != 'married') & (df['number_of_dependants'] == 0), 'family_profile'] = 'Single no children'"
   ]
  },
  {
   "cell_type": "code",
   "execution_count": null,
   "id": "5e9e083d",
   "metadata": {},
   "outputs": [],
   "source": [
    "# Creating the 'family_profile' column and labeling the 'single with children' customers\n",
    "\n",
    "df.loc[(df['family_status'] != 'married') & (df['number_of_dependants'] >= 1), 'family_profile'] = 'Single with children'"
   ]
  },
  {
   "cell_type": "code",
   "execution_count": null,
   "id": "5b129ba9",
   "metadata": {},
   "outputs": [],
   "source": [
    "# Getting frequency distribution for 'family_profile'\n",
    "\n",
    "df['family_profile'].value_counts(dropna = False)"
   ]
  },
  {
   "cell_type": "markdown",
   "id": "ee31949a",
   "metadata": {},
   "source": [
    "# Step 6: Profile Visualizations"
   ]
  },
  {
   "cell_type": "markdown",
   "id": "9ef2f200",
   "metadata": {},
   "source": [
    "Create an appropriate visualization to show the distribution of profiles."
   ]
  },
  {
   "cell_type": "code",
   "execution_count": null,
   "id": "1e290b14",
   "metadata": {},
   "outputs": [],
   "source": [
    "# age_profile\n",
    "\n",
    "age_profile_bar = df['age_profile'].value_counts().plot.bar(rot=0)"
   ]
  },
  {
   "cell_type": "code",
   "execution_count": null,
   "id": "9200a2cd",
   "metadata": {},
   "outputs": [],
   "source": [
    "# Exporting the viz\n",
    "\n",
    "age_profile_bar.figure.savefig(os.path.join(path, '04 Analysis', 'Visualizations', 'age_profile_bar.png'))"
   ]
  },
  {
   "cell_type": "code",
   "execution_count": null,
   "id": "d3cbf5c6",
   "metadata": {},
   "outputs": [],
   "source": [
    "# income_profile\n",
    "\n",
    "income_profile_bar = df['income_profile'].value_counts().plot.bar(rot=0)"
   ]
  },
  {
   "cell_type": "code",
   "execution_count": null,
   "id": "3cce3e13",
   "metadata": {},
   "outputs": [],
   "source": [
    "# Exporting the viz\n",
    "\n",
    "income_profile_bar.figure.savefig(os.path.join(path, '04 Analysis', 'Visualizations', 'income_profile_bar.png'))"
   ]
  },
  {
   "cell_type": "code",
   "execution_count": null,
   "id": "c9867a35",
   "metadata": {},
   "outputs": [],
   "source": [
    "# vegan_profile\n",
    "\n",
    "vegan_profile_bar = df['vegan_profile'].value_counts().plot.bar(rot=0)"
   ]
  },
  {
   "cell_type": "code",
   "execution_count": null,
   "id": "f5d1bb87",
   "metadata": {},
   "outputs": [],
   "source": [
    "# Exporting the viz\n",
    "\n",
    "vegan_profile_bar.figure.savefig(os.path.join(path, '04 Analysis', 'Visualizations', 'vegan_profile_bar.png'))"
   ]
  },
  {
   "cell_type": "code",
   "execution_count": null,
   "id": "648759a2",
   "metadata": {},
   "outputs": [],
   "source": [
    "# family_profile\n",
    "\n",
    "family_profile_bar = df['family_profile'].value_counts().plot.bar()"
   ]
  },
  {
   "cell_type": "code",
   "execution_count": null,
   "id": "ba189ae2",
   "metadata": {},
   "outputs": [],
   "source": [
    "# Exporting the viz\n",
    "\n",
    "family_profile_bar.figure.savefig(os.path.join(path, '04 Analysis', 'Visualizations', 'family_profile_bar.png'))"
   ]
  },
  {
   "cell_type": "markdown",
   "id": "0086c7ef",
   "metadata": {},
   "source": [
    "# Step 7: Profile Aggregation"
   ]
  },
  {
   "cell_type": "markdown",
   "id": "06cfd320",
   "metadata": {},
   "source": [
    "Aggregate the max, mean, and min variables on a customer-profile level for usage frequency and expenditure."
   ]
  },
  {
   "cell_type": "markdown",
   "id": "df82679e",
   "metadata": {},
   "source": [
    "## Age"
   ]
  },
  {
   "cell_type": "code",
   "execution_count": null,
   "id": "51bd31e4",
   "metadata": {},
   "outputs": [],
   "source": [
    "# age_profile stats\n",
    "\n",
    "df.groupby('age_profile').agg({'days_since_prior_order': ['mean', 'max', 'min'], 'prices': ['mean', 'max', 'min']})"
   ]
  },
  {
   "cell_type": "markdown",
   "id": "02a93915",
   "metadata": {},
   "source": [
    "Usage frequency and expenditure are similar across all age groups, though Seniors do tend to shop a little more frequently and purchase slightly more expensive products, on average."
   ]
  },
  {
   "cell_type": "markdown",
   "id": "cf4a8802",
   "metadata": {},
   "source": [
    "## Income"
   ]
  },
  {
   "cell_type": "code",
   "execution_count": null,
   "id": "5f792fc2",
   "metadata": {},
   "outputs": [],
   "source": [
    "# income_profile stats\n",
    "\n",
    "df.groupby('income_profile').agg({'days_since_prior_order': ['mean', 'max', 'min'], 'prices': ['mean', 'max', 'min']})"
   ]
  },
  {
   "cell_type": "markdown",
   "id": "0d42e905",
   "metadata": {},
   "source": [
    "Usage frequency and expenditure are, again, fairly close among the income groups.  Low-income customers tend to purchase slightly cheaper options, and they shop a little less frequently than mid- and high-income customers."
   ]
  },
  {
   "cell_type": "markdown",
   "id": "21d37e92",
   "metadata": {},
   "source": [
    "## Veganism"
   ]
  },
  {
   "cell_type": "code",
   "execution_count": null,
   "id": "dddd0de0",
   "metadata": {},
   "outputs": [],
   "source": [
    "# vegan_profile stats\n",
    "\n",
    "df.groupby('vegan_profile').agg({'days_since_prior_order': ['mean', 'max', 'min'], 'prices': ['mean', 'max', 'min']})"
   ]
  },
  {
   "cell_type": "markdown",
   "id": "2ecc3f4b",
   "metadata": {},
   "source": [
    "Here we see more of a difference, expecially in usage frequency.  Vegans tend to go longer between orders than their non-vegan counterparts.  They also tend to go with cheaper products (which is surprising, given that vegan products can be expensive)."
   ]
  },
  {
   "cell_type": "markdown",
   "id": "856f1492",
   "metadata": {},
   "source": [
    "## Family Status"
   ]
  },
  {
   "cell_type": "code",
   "execution_count": null,
   "id": "0c5a17b5",
   "metadata": {},
   "outputs": [],
   "source": [
    "# family_profile stats\n",
    "\n",
    "df.groupby('family_profile').agg({'days_since_prior_order': ['mean', 'max', 'min'], 'prices': ['mean', 'max', 'min']})"
   ]
  },
  {
   "cell_type": "markdown",
   "id": "68932f6c",
   "metadata": {},
   "source": [
    "Again, we have remarkably consistent results across all groups with respect to usage frequency and expenditure.  \"Single with children\" customers shop the most frequently and purchase more expensive items than their peers while \"Married with children\" customers shop the least frequently and purchase cheaper items than their peers.  These differences are minor, though."
   ]
  },
  {
   "cell_type": "markdown",
   "id": "635df53f",
   "metadata": {},
   "source": [
    "# Step 8: Customer Profiles by Region and Department"
   ]
  },
  {
   "cell_type": "markdown",
   "id": "dd7060be",
   "metadata": {},
   "source": [
    "## Customer Profiles by Region"
   ]
  },
  {
   "cell_type": "markdown",
   "id": "137e9625",
   "metadata": {},
   "source": [
    "### Age"
   ]
  },
  {
   "cell_type": "code",
   "execution_count": null,
   "id": "52e0f4be",
   "metadata": {},
   "outputs": [],
   "source": [
    "# Creating a crosstab comparing 'age_profile' and 'region', looking at column percentages\n",
    "\n",
    "age_region_cross = pd.crosstab(df['age_profile'], df['region'], normalize = 'columns')\n",
    "# normalize = 'columns' gives the column percentages"
   ]
  },
  {
   "cell_type": "code",
   "execution_count": null,
   "id": "e64e56ec",
   "metadata": {},
   "outputs": [],
   "source": [
    "age_region_cross"
   ]
  },
  {
   "cell_type": "markdown",
   "id": "181dcbc0",
   "metadata": {},
   "source": [
    "Similar age groups across all regions."
   ]
  },
  {
   "cell_type": "markdown",
   "id": "5fcd2bfe",
   "metadata": {},
   "source": [
    "### Income"
   ]
  },
  {
   "cell_type": "code",
   "execution_count": null,
   "id": "467d16b0",
   "metadata": {},
   "outputs": [],
   "source": [
    "# Creating a crosstab comparing 'income_profile' and 'region', looking at column percentages\n",
    "\n",
    "income_region_cross = pd.crosstab(df['income_profile'], df['region'], normalize = 'columns')\n",
    "# normalize = 'columns' gives the column percentages"
   ]
  },
  {
   "cell_type": "code",
   "execution_count": null,
   "id": "066248ed",
   "metadata": {},
   "outputs": [],
   "source": [
    "income_region_cross"
   ]
  },
  {
   "cell_type": "markdown",
   "id": "93d7e889",
   "metadata": {},
   "source": [
    "Similar income groups across all regions."
   ]
  },
  {
   "cell_type": "markdown",
   "id": "da62e704",
   "metadata": {},
   "source": [
    "### Veganism"
   ]
  },
  {
   "cell_type": "code",
   "execution_count": null,
   "id": "d4a7448f",
   "metadata": {},
   "outputs": [],
   "source": [
    "# Creating a crosstab comparing 'vegan_profile' and 'region', looking at column percentages\n",
    "\n",
    "vegan_region_cross = pd.crosstab(df['vegan_profile'], df['region'], normalize = 'columns')\n",
    "# normalize = 'columns' gives the column percentages"
   ]
  },
  {
   "cell_type": "code",
   "execution_count": null,
   "id": "07cea5a3",
   "metadata": {},
   "outputs": [],
   "source": [
    "vegan_region_cross"
   ]
  },
  {
   "cell_type": "markdown",
   "id": "1e636a54",
   "metadata": {},
   "source": [
    "Similar rates of veganism in the midwest and northeast, but there are fewer vegans in the south, and more vegans in the west."
   ]
  },
  {
   "cell_type": "markdown",
   "id": "96f4ceaa",
   "metadata": {},
   "source": [
    "### Family Status"
   ]
  },
  {
   "cell_type": "code",
   "execution_count": null,
   "id": "3ab099f1",
   "metadata": {},
   "outputs": [],
   "source": [
    "# Creating a crosstab comparing 'family_profile' and 'region', looking at column percentages\n",
    "\n",
    "family_region_cross = pd.crosstab(df['family_profile'], df['region'], normalize = 'columns')\n",
    "# normalize = 'columns' gives the column percentages"
   ]
  },
  {
   "cell_type": "code",
   "execution_count": null,
   "id": "70349880",
   "metadata": {},
   "outputs": [],
   "source": [
    "family_region_cross"
   ]
  },
  {
   "cell_type": "markdown",
   "id": "e92155e7",
   "metadata": {},
   "source": [
    "Similar family structures across all regions."
   ]
  },
  {
   "cell_type": "markdown",
   "id": "aaf612fa",
   "metadata": {},
   "source": [
    "## Customer Profiles by Department"
   ]
  },
  {
   "cell_type": "markdown",
   "id": "2567bb20",
   "metadata": {},
   "source": [
    "### Age"
   ]
  },
  {
   "cell_type": "code",
   "execution_count": null,
   "id": "fc46b1e5",
   "metadata": {},
   "outputs": [],
   "source": [
    "# Creating a crosstab comparing 'age_profile' and 'department_id', looking at row percentages\n",
    "\n",
    "age_department_cross = pd.crosstab(df['age_profile'], df['department_id'], normalize = 'index')   \n",
    "# normalize = 'index' gives row percentages"
   ]
  },
  {
   "cell_type": "code",
   "execution_count": null,
   "id": "85d0c448",
   "metadata": {},
   "outputs": [],
   "source": [
    "pd.set_option('display.max_columns', None)    # displays all columns\n",
    "\n",
    "age_department_cross"
   ]
  },
  {
   "cell_type": "markdown",
   "id": "6e90dadf",
   "metadata": {},
   "source": [
    "To three decimal places, all columns are the same (+/- one decimal place) except\n",
    "\n",
    "4 (produce)\n",
    "\n",
    "\n",
    "To two significant digits, all columns are the same (+/- one sig dig) except\n",
    "\n",
    "5 (alcohol)\n",
    "\n",
    "8 (pets)"
   ]
  },
  {
   "cell_type": "markdown",
   "id": "01777819",
   "metadata": {},
   "source": [
    "### Income"
   ]
  },
  {
   "cell_type": "code",
   "execution_count": null,
   "id": "c0adaaea",
   "metadata": {},
   "outputs": [],
   "source": [
    "# Creating a crosstab comparing 'income_profile' and 'department_id', looking at row percentages\n",
    "\n",
    "income_department_cross = pd.crosstab(df['income_profile'], df['department_id'], normalize = 'index')\n",
    "# normalize = 'index' gives row percentages"
   ]
  },
  {
   "cell_type": "code",
   "execution_count": null,
   "id": "8ab997bd",
   "metadata": {},
   "outputs": [],
   "source": [
    "income_department_cross"
   ]
  },
  {
   "cell_type": "markdown",
   "id": "f2effcb4",
   "metadata": {},
   "source": [
    "To three decimal places, all columns are the same (+/- two decimal places) except \n",
    "\n",
    "1 (frozen)\n",
    "\n",
    "4 (produce) *big one\n",
    "\n",
    "7 (beverages)\n",
    "\n",
    "9 (dry goods pasta)\n",
    "\n",
    "12 (meat seafood) *mid sized one\n",
    "\n",
    "13 (pantry)\n",
    "\n",
    "15 (canned goods)\n",
    "\n",
    "16 (dairy eggs) *mid sized one\n",
    "\n",
    "19 (snacks) *big one\n",
    "\n",
    "\n",
    "To two significant digits, all columns are the same (+/- two sig dig) except 1, 3, 4, 5, 6, 7, 8, 9, 10, 12, 13, 14, 15, 19"
   ]
  },
  {
   "cell_type": "markdown",
   "id": "b8c7618c",
   "metadata": {},
   "source": [
    "### Veganism"
   ]
  },
  {
   "cell_type": "code",
   "execution_count": null,
   "id": "a21a1b30",
   "metadata": {},
   "outputs": [],
   "source": [
    "# Creating a crosstab comparing 'vegan_profile' and 'department_id'\n",
    "\n",
    "vegan_department_cross = pd.crosstab(df['vegan_profile'], df['department_id'], normalize = 'index')\n",
    "# normalize = 'index' gives row percentages"
   ]
  },
  {
   "cell_type": "code",
   "execution_count": null,
   "id": "617084a0",
   "metadata": {},
   "outputs": [],
   "source": [
    "vegan_department_cross"
   ]
  },
  {
   "cell_type": "markdown",
   "id": "2339dec6",
   "metadata": {},
   "source": [
    "There are differences here in nearly all departments.  Vegans spend less on 1 (frozen), 3 (bakery), 9 (dry goods pasta), 13 (pantry), 15 (canned goods), 20 (deli), and obviously, they don't buy meat and dairy.\n",
    "\n",
    "Vegans spend more on 4 (produce), 5 (alcohol), 7 (beverages), 11 (personal care), 17 (household), 19 (snacks)"
   ]
  },
  {
   "cell_type": "code",
   "execution_count": null,
   "id": "2a71ce56",
   "metadata": {},
   "outputs": [],
   "source": [
    "# This isn't a large df, so I'm going to do some work with it in Excel.  Copying to clipboard...\n",
    "\n",
    "vegan_department_cross.to_clipboard()"
   ]
  },
  {
   "cell_type": "markdown",
   "id": "5409bc8d",
   "metadata": {},
   "source": [
    "Ok, so the largest differences (in magnitude), besides meat and dairy, are department 7 (beverages) at 11.2% and department 19 (snacks) at 7.8%.  There's also a fairly sizeable difference in department 5 (alcohol) at 3.0%\n",
    "\n",
    "The largest differences (relatively speaking), besides meat and dairy, are department 5 (alcohol) from which vegans purchase 87.3% more often than non-vegans, department 9 (dry goods pasta) from which vegans purchase 65.2% less often than non-vegans, and department 17 (household) from which vegans purchase 65.1% more often than non-vegans."
   ]
  },
  {
   "cell_type": "markdown",
   "id": "5048d2a2",
   "metadata": {},
   "source": [
    "### Family Status"
   ]
  },
  {
   "cell_type": "code",
   "execution_count": null,
   "id": "f65616b9",
   "metadata": {},
   "outputs": [],
   "source": [
    "# Creating a crosstab comparing 'family_profile' and 'department_id'\n",
    "\n",
    "family_department_cross = pd.crosstab(df['family_profile'], df['department_id'], normalize = 'index')\n",
    "# normalize = 'index' gives row percentages"
   ]
  },
  {
   "cell_type": "code",
   "execution_count": null,
   "id": "12619227",
   "metadata": {},
   "outputs": [],
   "source": [
    "family_department_cross"
   ]
  },
  {
   "cell_type": "markdown",
   "id": "4d668439",
   "metadata": {},
   "source": [
    "We see fairly similar distributions here.  Department 5 (alcohol) is slightly more elevated for single customers, especially those with children.  Single customers with children purchase more often from department 8 (pets).  Otherwise, it's fairly uniform.  "
   ]
  },
  {
   "cell_type": "markdown",
   "id": "63cad691",
   "metadata": {},
   "source": [
    "# Step 9: Visualizations for Results"
   ]
  },
  {
   "cell_type": "markdown",
   "id": "d4150fc2",
   "metadata": {},
   "source": [
    "## Visualizations for Profiles by Region"
   ]
  },
  {
   "cell_type": "markdown",
   "id": "ece7430b",
   "metadata": {},
   "source": [
    "### Age"
   ]
  },
  {
   "cell_type": "code",
   "execution_count": null,
   "id": "db398e4e",
   "metadata": {},
   "outputs": [],
   "source": [
    "# age_profile by region\n",
    "\n",
    "age_region_bar = age_region_cross.plot.bar(rot=0)"
   ]
  },
  {
   "cell_type": "code",
   "execution_count": null,
   "id": "9e8b5ea2",
   "metadata": {},
   "outputs": [],
   "source": [
    "# Exporting viz\n",
    "\n",
    "age_region_bar.figure.savefig(os.path.join(path, '04 Analysis', 'Visualizations', 'age_region_bar.png'))"
   ]
  },
  {
   "cell_type": "markdown",
   "id": "48acf2ef",
   "metadata": {},
   "source": [
    "### Income"
   ]
  },
  {
   "cell_type": "code",
   "execution_count": null,
   "id": "15876715",
   "metadata": {},
   "outputs": [],
   "source": [
    "# income_profile by region\n",
    "\n",
    "income_region_bar = income_region_cross.plot.bar(rot=0)"
   ]
  },
  {
   "cell_type": "code",
   "execution_count": null,
   "id": "899799ba",
   "metadata": {},
   "outputs": [],
   "source": [
    "# Exporting viz\n",
    "\n",
    "income_region_bar.figure.savefig(os.path.join(path, '04 Analysis', 'Visualizations', 'income_region_bar.png'))"
   ]
  },
  {
   "cell_type": "markdown",
   "id": "048e1ba5",
   "metadata": {},
   "source": [
    "### Veganism"
   ]
  },
  {
   "cell_type": "code",
   "execution_count": null,
   "id": "e6d1eec1",
   "metadata": {},
   "outputs": [],
   "source": [
    "# vegan_profile by region\n",
    "\n",
    "vegan_region_bar = vegan_region_cross.plot.bar(rot=0)"
   ]
  },
  {
   "cell_type": "code",
   "execution_count": null,
   "id": "33c24390",
   "metadata": {},
   "outputs": [],
   "source": [
    "# Exporting viz\n",
    "\n",
    "vegan_region_bar.figure.savefig(os.path.join(path, '04 Analysis', 'Visualizations', 'vegan_region_bar.png'))"
   ]
  },
  {
   "cell_type": "markdown",
   "id": "a7b65e25",
   "metadata": {},
   "source": [
    "### Family Status"
   ]
  },
  {
   "cell_type": "code",
   "execution_count": null,
   "id": "f4df1575",
   "metadata": {},
   "outputs": [],
   "source": [
    "# family_profile by region\n",
    "\n",
    "family_region_bar = family_region_cross.plot.bar()"
   ]
  },
  {
   "cell_type": "code",
   "execution_count": null,
   "id": "50f2f682",
   "metadata": {},
   "outputs": [],
   "source": [
    "# Exporting viz\n",
    "\n",
    "family_region_bar.figure.savefig(os.path.join(path, '04 Analysis', 'Visualizations', 'family_region_bar.png'))"
   ]
  },
  {
   "cell_type": "markdown",
   "id": "cab63083",
   "metadata": {},
   "source": [
    "## Visualizations for Profiles by Department"
   ]
  },
  {
   "cell_type": "markdown",
   "id": "6b310ac5",
   "metadata": {},
   "source": [
    "### Age"
   ]
  },
  {
   "cell_type": "code",
   "execution_count": null,
   "id": "d951060a",
   "metadata": {},
   "outputs": [],
   "source": [
    "# Creating a new crosstab so that the departments are on the x-axis\n",
    "\n",
    "age_department_cros = pd.crosstab(df['department_id'], df['age_profile'])"
   ]
  },
  {
   "cell_type": "code",
   "execution_count": null,
   "id": "e4788aeb",
   "metadata": {},
   "outputs": [],
   "source": [
    "# Creating a stacked bar plot of the new crosstab\n",
    "\n",
    "age_department_bar = age_department_cros.plot.bar(stacked = True)"
   ]
  },
  {
   "cell_type": "code",
   "execution_count": null,
   "id": "109738eb",
   "metadata": {},
   "outputs": [],
   "source": [
    "# Exporting the viz\n",
    "\n",
    "age_department_bar.figure.savefig(os.path.join(path, '04 Analysis', 'Visualizations', 'age_department_bar.png'))"
   ]
  },
  {
   "cell_type": "markdown",
   "id": "5ad89625",
   "metadata": {},
   "source": [
    "### Income"
   ]
  },
  {
   "cell_type": "code",
   "execution_count": null,
   "id": "d655ec1e",
   "metadata": {},
   "outputs": [],
   "source": [
    "# Creating a new crosstab so that the departments are on the x-axis\n",
    "\n",
    "income_department_cros = pd.crosstab(df['department_id'], df['income_profile'])"
   ]
  },
  {
   "cell_type": "code",
   "execution_count": null,
   "id": "e2d93aaa",
   "metadata": {},
   "outputs": [],
   "source": [
    "# Creating a stacked bar plot of the new crosstab\n",
    "\n",
    "income_department_bar = income_department_cros.plot.bar(stacked = True)"
   ]
  },
  {
   "cell_type": "code",
   "execution_count": null,
   "id": "88578c05",
   "metadata": {},
   "outputs": [],
   "source": [
    "# Exporting the viz\n",
    "\n",
    "income_department_bar.figure.savefig(os.path.join(path, '04 Analysis', 'Visualizations', 'income_department_bar.png'))"
   ]
  },
  {
   "cell_type": "markdown",
   "id": "82843248",
   "metadata": {},
   "source": [
    "### Vegan"
   ]
  },
  {
   "cell_type": "code",
   "execution_count": null,
   "id": "eeb85a94",
   "metadata": {},
   "outputs": [],
   "source": [
    "# Creating a new crosstab so that the departments are on the x-axis\n",
    "\n",
    "vegan_department_cros = pd.crosstab(df['department_id'], df['vegan_profile'])"
   ]
  },
  {
   "cell_type": "code",
   "execution_count": null,
   "id": "929e94d8",
   "metadata": {},
   "outputs": [],
   "source": [
    "# Creating a stacked bar plot of the new crosstab\n",
    "\n",
    "vegan_department_bar = vegan_department_cros.plot.bar(stacked = True)"
   ]
  },
  {
   "cell_type": "code",
   "execution_count": null,
   "id": "921220ef",
   "metadata": {},
   "outputs": [],
   "source": [
    "# Exporting the viz\n",
    "\n",
    "vegan_department_bar.figure.savefig(os.path.join(path, '04 Analysis', 'Visualizations', 'vegan_department_bar.png'))"
   ]
  },
  {
   "cell_type": "markdown",
   "id": "386f3f34",
   "metadata": {},
   "source": [
    "### Family Status"
   ]
  },
  {
   "cell_type": "code",
   "execution_count": null,
   "id": "2781a468",
   "metadata": {},
   "outputs": [],
   "source": [
    "# Creating a new crosstab so that the departments are on the x-axis\n",
    "\n",
    "family_department_cros = pd.crosstab(df['department_id'], df['family_profile'])"
   ]
  },
  {
   "cell_type": "code",
   "execution_count": null,
   "id": "bc97d2bf",
   "metadata": {},
   "outputs": [],
   "source": [
    "# Creating a stacked bar plot of the new crosstab\n",
    "\n",
    "family_department_bar = family_department_cros.plot.bar(stacked = True)"
   ]
  },
  {
   "cell_type": "code",
   "execution_count": null,
   "id": "0ee59704",
   "metadata": {},
   "outputs": [],
   "source": [
    "# Exporting the viz\n",
    "\n",
    "family_department_bar.figure.savefig(os.path.join(path, '04 Analysis', 'Visualizations', 'family_department_bar.png'))"
   ]
  },
  {
   "cell_type": "markdown",
   "id": "ef73f46f",
   "metadata": {},
   "source": [
    "## Extra Analysis"
   ]
  },
  {
   "cell_type": "markdown",
   "id": "451f5dfe",
   "metadata": {},
   "source": [
    "I have not found much of a difference between different groups using my profiles.  However, I think I can do a better job of making sense of some of the data by just answering some of the questions in the Project Brief directly.  For example, the project brief asks about differences in ordering habits based on loyalty status and region.  Let's explore."
   ]
  },
  {
   "cell_type": "code",
   "execution_count": null,
   "id": "67ba2d40",
   "metadata": {},
   "outputs": [],
   "source": [
    "# Creating a crosstab comparing 'region' and 'loyalty_flag'\n",
    "\n",
    "region_loyalty_cross = pd.crosstab(df['region'], df['loyalty_flag'])\n",
    "\n",
    "region_loyalty_cross"
   ]
  },
  {
   "cell_type": "code",
   "execution_count": null,
   "id": "815fd552",
   "metadata": {},
   "outputs": [],
   "source": [
    "# Creating a crosstab comparing 'region' and 'loyalty_flag' with row percentages\n",
    "\n",
    "region_loyalty_crossed = pd.crosstab(df['region'], df['loyalty_flag'], normalize = 'index')\n",
    "\n",
    "region_loyalty_crossed"
   ]
  },
  {
   "cell_type": "code",
   "execution_count": null,
   "id": "2b0ff519",
   "metadata": {},
   "outputs": [],
   "source": [
    "# Visualizing regional loyalty\n",
    "\n",
    "region_loyalty_bar = region_loyalty_cross.plot.bar(rot=0)"
   ]
  },
  {
   "cell_type": "markdown",
   "id": "ce0302ec",
   "metadata": {},
   "source": [
    "At first glance, it seems like there are tons of regular customers in the South, and while this is true in absolute terms, it is also the case that the South was the largest region of the country.  When we take the number of customers into account, we see that the distribution of loyalty is remarkably consistent across regions."
   ]
  },
  {
   "cell_type": "code",
   "execution_count": null,
   "id": "dda10ce1",
   "metadata": {},
   "outputs": [],
   "source": [
    "# Visualizing regional loyalty\n",
    "\n",
    "region_loyalty_bar_2 = region_loyalty_crossed.plot.bar(rot=0)"
   ]
  },
  {
   "cell_type": "markdown",
   "id": "c13d23a4",
   "metadata": {},
   "source": [
    "As we've seen before, there's just not much of a difference in loyalty by region once the population of that region is taken into account.  The same can be said of prices, days_since_prior_order, and all other variables I've explored.  At this point, I've spent many hours on this project, and I'm going to call it here."
   ]
  },
  {
   "cell_type": "code",
   "execution_count": null,
   "id": "03f54f31",
   "metadata": {},
   "outputs": [],
   "source": [
    "# Exporting the visualizations above\n",
    "\n",
    "region_loyalty_bar.figure.savefig(os.path.join(path, '04 Analysis', 'Visualizations', 'region_loyalty_bar.png'))\n",
    "region_loyalty_bar_2.figure.savefig(os.path.join(path, '04 Analysis', 'Visualizations', 'region_loyalty_bar_2.png'))"
   ]
  },
  {
   "cell_type": "markdown",
   "id": "73fcfeab",
   "metadata": {},
   "source": [
    "### Creating a viz to answer \"Are there differences in ordering habits based on a customer's loyalty status?\""
   ]
  },
  {
   "cell_type": "markdown",
   "id": "ae7fb677",
   "metadata": {},
   "source": [
    "#### By Order Frequency"
   ]
  },
  {
   "cell_type": "code",
   "execution_count": null,
   "id": "8e27e4f7",
   "metadata": {},
   "outputs": [],
   "source": [
    "# Creating the crosstab\n",
    "\n",
    "frequency_loyalty_crossed = pd.crosstab(df['order_frequency_flag'], df['loyalty_flag'])\n",
    "\n",
    "frequency_loyalty_crossed"
   ]
  },
  {
   "cell_type": "code",
   "execution_count": null,
   "id": "2580bcb8",
   "metadata": {},
   "outputs": [],
   "source": [
    "# Creating the viz\n",
    "\n",
    "frequency_loyalty_bar = frequency_loyalty_crossed.plot.bar(rot=0)"
   ]
  },
  {
   "cell_type": "code",
   "execution_count": null,
   "id": "c3f88d5e",
   "metadata": {},
   "outputs": [],
   "source": [
    "# Exporting the viz\n",
    "\n",
    "frequency_loyalty_bar.figure.savefig(os.path.join(path, '04 Analysis', 'Visualizations', 'frequency_loyalty_bar.png'))"
   ]
  },
  {
   "cell_type": "markdown",
   "id": "db0c9542",
   "metadata": {},
   "source": [
    "#### By Spending"
   ]
  },
  {
   "cell_type": "code",
   "execution_count": null,
   "id": "46f53b02",
   "metadata": {},
   "outputs": [],
   "source": [
    "# Creating the crosstab\n",
    "\n",
    "spending_loyalty_crossed = pd.crosstab(df['spending_flag'], df['loyalty_flag'])\n",
    "\n",
    "spending_loyalty_crossed"
   ]
  },
  {
   "cell_type": "code",
   "execution_count": null,
   "id": "b83e6e99",
   "metadata": {},
   "outputs": [],
   "source": [
    "# Creating the viz\n",
    "\n",
    "spending_loyalty_bar = spending_loyalty_crossed.plot.bar(rot=0)"
   ]
  },
  {
   "cell_type": "code",
   "execution_count": null,
   "id": "5f91fb47",
   "metadata": {},
   "outputs": [],
   "source": [
    "# Exporting the viz\n",
    "\n",
    "spending_loyalty_bar.figure.savefig(os.path.join(path, '04 Analysis', 'Visualizations', 'spending_loyalty_bar.png'))"
   ]
  },
  {
   "cell_type": "markdown",
   "id": "cf037c74",
   "metadata": {},
   "source": [
    "### Creating a viz to answer \"Are there differences in ordering habits based on a customer's region?\""
   ]
  },
  {
   "cell_type": "markdown",
   "id": "3247ad3d",
   "metadata": {},
   "source": [
    "#### By Order Frequency"
   ]
  },
  {
   "cell_type": "code",
   "execution_count": null,
   "id": "f9f9b7d2",
   "metadata": {},
   "outputs": [],
   "source": [
    "# Creating the crosstab\n",
    "\n",
    "frequency_region_crossed = pd.crosstab(df['order_frequency_flag'], df['region'])\n",
    "\n",
    "frequency_region_crossed"
   ]
  },
  {
   "cell_type": "code",
   "execution_count": null,
   "id": "739f2ef3",
   "metadata": {},
   "outputs": [],
   "source": [
    "# Creating the viz\n",
    "\n",
    "frequency_region_bar = frequency_region_crossed.plot.bar(rot=0)"
   ]
  },
  {
   "cell_type": "code",
   "execution_count": null,
   "id": "d06e3ebe",
   "metadata": {},
   "outputs": [],
   "source": [
    "# Exporting the viz\n",
    "\n",
    "frequency_region_bar.figure.savefig(os.path.join(path, '04 Analysis', 'Visualizations', 'frequency_region_bar.png'))"
   ]
  },
  {
   "cell_type": "markdown",
   "id": "df047584",
   "metadata": {},
   "source": [
    "#### By spending"
   ]
  },
  {
   "cell_type": "code",
   "execution_count": null,
   "id": "69110e3b",
   "metadata": {},
   "outputs": [],
   "source": [
    "# Creating the crosstab\n",
    "\n",
    "spending_region_crossed = pd.crosstab(df['spending_flag'], df['region'])\n",
    "\n",
    "spending_region_crossed"
   ]
  },
  {
   "cell_type": "code",
   "execution_count": null,
   "id": "06af35fd",
   "metadata": {},
   "outputs": [],
   "source": [
    "# Creating the viz\n",
    "\n",
    "spending_region_bar = spending_region_crossed.plot.bar(rot=0)"
   ]
  },
  {
   "cell_type": "code",
   "execution_count": null,
   "id": "d014de13",
   "metadata": {},
   "outputs": [],
   "source": [
    "# Exporting the viz\n",
    "\n",
    "spending_region_bar.figure.savefig(os.path.join(path, '04 Analysis', 'Visualizations', 'spending_region_bar.png'))"
   ]
  },
  {
   "cell_type": "markdown",
   "id": "7bde8224",
   "metadata": {},
   "source": [
    "# Step 10: Tidy Up, Export Df, and Save Notebook"
   ]
  },
  {
   "cell_type": "code",
   "execution_count": 144,
   "id": "957b8441",
   "metadata": {},
   "outputs": [],
   "source": [
    "# Exporting final data set as \n",
    "\n",
    "df.to_pickle(os.path.join(path, '02 Data', 'Prepared Data', 'orders_products_final.pkl'))"
   ]
  },
  {
   "cell_type": "code",
   "execution_count": 145,
   "id": "bd415c89",
   "metadata": {},
   "outputs": [
    {
     "name": "stdout",
     "output_type": "stream",
     "text": [
      "<class 'pandas.core.frame.DataFrame'>\n",
      "Int64Index: 32404859 entries, 0 to 32404858\n",
      "Data columns (total 37 columns):\n",
      " #   Column                         Dtype  \n",
      "---  ------                         -----  \n",
      " 0   order_id                       int64  \n",
      " 1   user_id                        int64  \n",
      " 2   eval_set                       object \n",
      " 3   order_number                   int64  \n",
      " 4   orders_day_of_week             int64  \n",
      " 5   order_hour_of_day              int64  \n",
      " 6   days_since_prior_order         float64\n",
      " 7   product_id                     int64  \n",
      " 8   add_to_cart_order              int64  \n",
      " 9   reordered                      int64  \n",
      " 10  product_name                   object \n",
      " 11  aisle_id                       int64  \n",
      " 12  department_id                  int64  \n",
      " 13  prices                         float64\n",
      " 14  price_range_loc                object \n",
      " 15  busiest_day                    object \n",
      " 16  busiest_days                   object \n",
      " 17  busiest_period_of_day          object \n",
      " 18  max_order                      int64  \n",
      " 19  loyalty_flag                   object \n",
      " 20  avg_price                      float64\n",
      " 21  spending_flag                  object \n",
      " 22  median_days_since_prior_order  float64\n",
      " 23  order_frequency_flag           object \n",
      " 24  gender                         object \n",
      " 25  state                          object \n",
      " 26  age                            int64  \n",
      " 27  date_joined                    object \n",
      " 28  number_of_dependants           int64  \n",
      " 29  family_status                  object \n",
      " 30  income                         int64  \n",
      " 31  region                         object \n",
      " 32  low_order_flag                 object \n",
      " 33  age_profile                    object \n",
      " 34  income_profile                 object \n",
      " 35  vegan_profile                  object \n",
      " 36  family_profile                 object \n",
      "dtypes: float64(4), int64(14), object(19)\n",
      "memory usage: 9.2+ GB\n"
     ]
    }
   ],
   "source": [
    "df.info()"
   ]
  }
 ],
 "metadata": {
  "kernelspec": {
   "display_name": "Python 3 (ipykernel)",
   "language": "python",
   "name": "python3"
  },
  "language_info": {
   "codemirror_mode": {
    "name": "ipython",
    "version": 3
   },
   "file_extension": ".py",
   "mimetype": "text/x-python",
   "name": "python",
   "nbconvert_exporter": "python",
   "pygments_lexer": "ipython3",
   "version": "3.10.9"
  }
 },
 "nbformat": 4,
 "nbformat_minor": 5
}
