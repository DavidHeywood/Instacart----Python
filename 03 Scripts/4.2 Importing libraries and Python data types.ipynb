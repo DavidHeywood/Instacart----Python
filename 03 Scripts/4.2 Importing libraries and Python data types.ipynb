{
 "cells": [
  {
   "cell_type": "markdown",
   "id": "21532b58",
   "metadata": {},
   "source": [
    "# 01. Importing Libraries"
   ]
  },
  {
   "cell_type": "code",
   "execution_count": 1,
   "id": "1b836966",
   "metadata": {},
   "outputs": [],
   "source": [
    "# Import libraries\n",
    "import pandas as pd\n",
    "import numpy as np\n",
    "import os"
   ]
  },
  {
   "cell_type": "markdown",
   "id": "7b9f1280",
   "metadata": {},
   "source": [
    "# 02. Data Types"
   ]
  },
  {
   "cell_type": "code",
   "execution_count": 2,
   "id": "74d5c6d5",
   "metadata": {},
   "outputs": [],
   "source": [
    "#One way to get 100\n",
    "x=25\n",
    "y=75"
   ]
  },
  {
   "cell_type": "code",
   "execution_count": 3,
   "id": "ccfd4a6c",
   "metadata": {},
   "outputs": [
    {
     "data": {
      "text/plain": [
       "100"
      ]
     },
     "execution_count": 3,
     "metadata": {},
     "output_type": "execute_result"
    }
   ],
   "source": [
    "x+y"
   ]
  },
  {
   "cell_type": "code",
   "execution_count": 4,
   "id": "04e61f9d",
   "metadata": {},
   "outputs": [],
   "source": [
    "#Second way to get 100\n",
    "x=101\n",
    "y=1"
   ]
  },
  {
   "cell_type": "code",
   "execution_count": 5,
   "id": "eb2e7005",
   "metadata": {},
   "outputs": [
    {
     "data": {
      "text/plain": [
       "100"
      ]
     },
     "execution_count": 5,
     "metadata": {},
     "output_type": "execute_result"
    }
   ],
   "source": [
    "x-y"
   ]
  },
  {
   "cell_type": "code",
   "execution_count": 6,
   "id": "e60068a2",
   "metadata": {},
   "outputs": [],
   "source": [
    "#Third way to get 100\n",
    "x=50\n",
    "y=53\n",
    "z=3"
   ]
  },
  {
   "cell_type": "code",
   "execution_count": 7,
   "id": "ededde19",
   "metadata": {},
   "outputs": [
    {
     "data": {
      "text/plain": [
       "100"
      ]
     },
     "execution_count": 7,
     "metadata": {},
     "output_type": "execute_result"
    }
   ],
   "source": [
    "x+y-z"
   ]
  },
  {
   "cell_type": "code",
   "execution_count": 8,
   "id": "b1af520c",
   "metadata": {},
   "outputs": [
    {
     "data": {
      "text/plain": [
       "0.28527370855821127"
      ]
     },
     "execution_count": 8,
     "metadata": {},
     "output_type": "execute_result"
    }
   ],
   "source": [
    "#Divide two floating-point variables\n",
    "x=3.7\n",
    "y=12.97\n",
    "x/y"
   ]
  },
  {
   "cell_type": "code",
   "execution_count": 9,
   "id": "42f56252",
   "metadata": {},
   "outputs": [
    {
     "data": {
      "text/plain": [
       "'shoe'"
      ]
     },
     "execution_count": 9,
     "metadata": {},
     "output_type": "execute_result"
    }
   ],
   "source": [
    "#Short word by concatenation\n",
    "x='sh'\n",
    "y='oe'\n",
    "x+y"
   ]
  },
  {
   "cell_type": "code",
   "execution_count": 10,
   "id": "c4e4beaa",
   "metadata": {},
   "outputs": [
    {
     "data": {
      "text/plain": [
       "'This is a short sentence.'"
      ]
     },
     "execution_count": 10,
     "metadata": {},
     "output_type": "execute_result"
    }
   ],
   "source": [
    "#Short sentence by contatenation\n",
    "x='This '\n",
    "y='is '\n",
    "z='a '\n",
    "u='short'\n",
    "v='sentence'\n",
    "w='.'\n",
    "a=' '\n",
    "x+y+z+u+a+v+w"
   ]
  },
  {
   "cell_type": "code",
   "execution_count": 11,
   "id": "1d583a39",
   "metadata": {},
   "outputs": [
    {
     "data": {
      "text/plain": [
       "'This sentence is short.'"
      ]
     },
     "execution_count": 11,
     "metadata": {},
     "output_type": "execute_result"
    }
   ],
   "source": [
    "#Another short sentence\n",
    "x+v+a+y+u+w"
   ]
  },
  {
   "cell_type": "code",
   "execution_count": null,
   "id": "56725fdd",
   "metadata": {},
   "outputs": [],
   "source": []
  }
 ],
 "metadata": {
  "kernelspec": {
   "display_name": "Python 3 (ipykernel)",
   "language": "python",
   "name": "python3"
  },
  "language_info": {
   "codemirror_mode": {
    "name": "ipython",
    "version": 3
   },
   "file_extension": ".py",
   "mimetype": "text/x-python",
   "name": "python",
   "nbconvert_exporter": "python",
   "pygments_lexer": "ipython3",
   "version": "3.10.9"
  }
 },
 "nbformat": 4,
 "nbformat_minor": 5
}
